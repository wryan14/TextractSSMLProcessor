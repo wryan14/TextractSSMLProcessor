{
 "cells": [
  {
   "cell_type": "markdown",
   "id": "f79f7a58",
   "metadata": {},
   "source": [
    "# Jupyter Notebook: SSML Debugging Tools"
   ]
  },
  {
   "cell_type": "markdown",
   "id": "c5ac33a4",
   "metadata": {},
   "source": [
    "#### Cell1: Setup and Imports"
   ]
  },
  {
   "cell_type": "code",
   "execution_count": 1,
   "id": "9ef196ff",
   "metadata": {},
   "outputs": [],
   "source": [
    "import os\n",
    "import re\n",
    "from xml.etree import ElementTree as ET\n",
    "from xml.etree.ElementTree import ParseError\n",
    "import html\n",
    "from lxml import etree\n",
    "from IPython.display import display\n",
    "import ipywidgets as widgets"
   ]
  },
  {
   "cell_type": "markdown",
   "id": "9f99d25d",
   "metadata": {},
   "source": [
    "#### Cell2: Function to Clean SSML Tags"
   ]
  },
  {
   "cell_type": "code",
   "execution_count": 16,
   "id": "be1a7493",
   "metadata": {},
   "outputs": [
    {
     "data": {
      "application/vnd.jupyter.widget-view+json": {
       "model_id": "5e1f1b942db64f08a9a20d520b810258",
       "version_major": 2,
       "version_minor": 0
      },
      "text/plain": [
       "FileUpload(value=(), accept='.txt', description='Upload')"
      ]
     },
     "metadata": {},
     "output_type": "display_data"
    },
    {
     "data": {
      "application/vnd.jupyter.widget-view+json": {
       "model_id": "8c74a3a6fe6243deaec6177882870f7c",
       "version_major": 2,
       "version_minor": 0
      },
      "text/plain": [
       "Button(description='Clean SSML Tags', style=ButtonStyle())"
      ]
     },
     "metadata": {},
     "output_type": "display_data"
    },
    {
     "name": "stdout",
     "output_type": "stream",
     "text": [
      "Error parsing the SSML text: mismatched tag: line 282, column 4\n"
     ]
    }
   ],
   "source": [
    "def clean_ssml_tags(file_path):\n",
    "    \"\"\"\n",
    "    Cleans SSML tags in the provided file by ensuring proper attributes for <w> and <break> tags,\n",
    "    and removing unwanted tags.\n",
    "\n",
    "    Args:\n",
    "        file_path (str): Path to the SSML file to be cleaned.\n",
    "\n",
    "    Returns:\n",
    "        None\n",
    "    \"\"\"\n",
    "    allowed_tags = {\"break\", \"lang\", \"p\", \"phoneme\", \"s\", \"speak\", \"sub\", \"w\"}\n",
    "\n",
    "    def ensure_role_attribute(tag):\n",
    "        if 'role=' not in tag:\n",
    "            tag = tag.replace('<w', '<w role=\"amazon:NN\"', 1)\n",
    "        return tag\n",
    "\n",
    "    try:\n",
    "        with open(file_path, 'r', encoding='utf-8') as file:\n",
    "            content = file.read()\n",
    "\n",
    "        content = html.unescape(content)\n",
    "\n",
    "        def ensure_break_time(match):\n",
    "            if 'time' not in match.group(0):\n",
    "                return '<break time=\"1s\"/>'\n",
    "            return match.group(0)\n",
    "\n",
    "        content = re.sub(r'<break\\s*/?>', ensure_break_time, content)\n",
    "        content = re.sub(r'<w([^>]*)>', lambda m: ensure_role_attribute(m.group(0)), content)\n",
    "        root = ET.fromstring(f\"<root>{content}</root>\")\n",
    "\n",
    "        def remove_unwanted_tags(element):\n",
    "            for child in list(element):\n",
    "                if child.tag not in allowed_tags:\n",
    "                    element.remove(child)\n",
    "                else:\n",
    "                    remove_unwanted_tags(child)\n",
    "\n",
    "        remove_unwanted_tags(root)\n",
    "        cleaned_ssml = ET.tostring(root, encoding='unicode').replace('<root>', '').replace('</root>', '')\n",
    "\n",
    "        with open(file_path, 'w', encoding='utf-8') as file:\n",
    "            file.write(cleaned_ssml)\n",
    "\n",
    "        print(f\"SSML tags cleaned and saved to {file_path}\")\n",
    "\n",
    "    except ParseError as e:\n",
    "        print(f\"Error parsing the SSML text: {e}\")\n",
    "    except Exception as e:\n",
    "        print(f\"An error occurred: {e}\")\n",
    "\n",
    "def handle_uploaded_file(uploaded_file):\n",
    "    file_path = uploaded_file['name']\n",
    "    with open(file_path, 'wb') as f:\n",
    "        f.write(uploaded_file['content'].tobytes())\n",
    "    return file_path\n",
    "\n",
    "# Usage Example\n",
    "file_selector = widgets.FileUpload(accept='.txt', multiple=False)\n",
    "\n",
    "def on_clean_ssml_tags(b):\n",
    "    for uploaded_file in file_selector.value:\n",
    "        file_path = handle_uploaded_file(uploaded_file)\n",
    "        clean_ssml_tags(file_path)\n",
    "\n",
    "clean_button = widgets.Button(description=\"Clean SSML Tags\")\n",
    "clean_button.on_click(on_clean_ssml_tags)\n",
    "\n",
    "display(file_selector, clean_button)\n"
   ]
  },
  {
   "cell_type": "markdown",
   "id": "937d6d8b",
   "metadata": {},
   "source": [
    "#### Cell 3: Function to Check Nested `<w>` Tags"
   ]
  },
  {
   "cell_type": "code",
   "execution_count": 15,
   "id": "df752a54",
   "metadata": {},
   "outputs": [
    {
     "data": {
      "application/vnd.jupyter.widget-view+json": {
       "model_id": "fbd6d23b42154edb9c61ccf3d2115281",
       "version_major": 2,
       "version_minor": 0
      },
      "text/plain": [
       "FileUpload(value=(), accept='.txt', description='Upload')"
      ]
     },
     "metadata": {},
     "output_type": "display_data"
    },
    {
     "data": {
      "application/vnd.jupyter.widget-view+json": {
       "model_id": "593624eb854247d7a8cf135ba7a6a27f",
       "version_major": 2,
       "version_minor": 0
      },
      "text/plain": [
       "Button(description='Check Nested Tags', style=ButtonStyle())"
      ]
     },
     "metadata": {},
     "output_type": "display_data"
    },
    {
     "name": "stdout",
     "output_type": "stream",
     "text": [
      "Error parsing the SSML: Opening and ending tag mismatch: s line 281 and p, line 282, column 7 (On_Faith_SSML_chunk_1.txt, line 282)\n"
     ]
    }
   ],
   "source": [
    "def check_nested_w_tags_from_file(file_path):\n",
    "    \"\"\"\n",
    "    Checks for nested <w> or <sub> tags in the SSML file and reports their locations.\n",
    "    Also checks for nested <phoneme> tags within <sub> tags.\n",
    "\n",
    "    Args:\n",
    "        file_path (str): Path to the SSML file to be checked.\n",
    "\n",
    "    Returns:\n",
    "        list or str: List of findings or a message if no nested tags are found.\n",
    "    \"\"\"\n",
    "    try:\n",
    "        with open(file_path, 'rb') as file:\n",
    "            root = etree.parse(file).getroot()\n",
    "\n",
    "        findings = []\n",
    "\n",
    "        def recurse_check(element, parent_tag=None):\n",
    "            if (element.tag == 'w' or element.tag == 'sub') and parent_tag not in ['speak', 's', 'p']:\n",
    "                findings.append(f'Nested <{element.tag}> tag found in <{parent_tag}> at line {element.sourceline}.')\n",
    "            if element.tag == 'phoneme' and parent_tag == 'sub':\n",
    "                findings.append(f'Nested <phoneme> tag found in <sub> at line {element.sourceline}.')\n",
    "\n",
    "            for child in element:\n",
    "                recurse_check(child, element.tag)\n",
    "\n",
    "        recurse_check(root)\n",
    "        return findings if findings else \"No nested <w>, <sub>, or <phoneme> tags found.\"\n",
    "\n",
    "    except etree.XMLSyntaxError as e:\n",
    "        return f\"Error parsing the SSML: {str(e)}\"\n",
    "    except FileNotFoundError:\n",
    "        return \"Error: The file specified does not exist.\"\n",
    "    except Exception as e:\n",
    "        return f\"An unexpected error occurred: {str(e)}\"\n",
    "\n",
    "# Usage Example\n",
    "file_selector = widgets.FileUpload(accept='.txt', multiple=False)\n",
    "\n",
    "def on_check_nested_tags(b):\n",
    "    for uploaded_file in file_selector.value:\n",
    "        file_path = handle_uploaded_file(uploaded_file)\n",
    "        result = check_nested_w_tags_from_file(file_path)\n",
    "        print(result)\n",
    "\n",
    "check_button = widgets.Button(description=\"Check Nested Tags\")\n",
    "check_button.on_click(on_check_nested_tags)\n",
    "\n",
    "display(file_selector, check_button)\n"
   ]
  },
  {
   "cell_type": "markdown",
   "id": "e87f98e3",
   "metadata": {},
   "source": [
    "#### Cell4: Function to Remove `<w>` Tags"
   ]
  },
  {
   "cell_type": "code",
   "execution_count": 4,
   "id": "6ce2aed2",
   "metadata": {},
   "outputs": [
    {
     "data": {
      "application/vnd.jupyter.widget-view+json": {
       "model_id": "5bf13521082a473e9861d3043e7eab3a",
       "version_major": 2,
       "version_minor": 0
      },
      "text/plain": [
       "FileUpload(value=(), accept='.txt', description='Upload')"
      ]
     },
     "metadata": {},
     "output_type": "display_data"
    },
    {
     "data": {
      "application/vnd.jupyter.widget-view+json": {
       "model_id": "5dd6206119484435b4ecb0ad97bc898c",
       "version_major": 2,
       "version_minor": 0
      },
      "text/plain": [
       "Button(description='Remove <w> Tags', style=ButtonStyle())"
      ]
     },
     "metadata": {},
     "output_type": "display_data"
    },
    {
     "name": "stdout",
     "output_type": "stream",
     "text": [
      "Attempting to open the file at: Fulgentius_of_Ruspe_On_Faith_and_For_the_Catholic_Faith_Translations_SSML_chunk_1.txt\n",
      "Saving the modified file to: modified_Fulgentius_of_Ruspe_On_Faith_and_For_the_Catholic_Faith_Translations_SSML_chunk_1.txt\n",
      "All <w> tags have been removed and the modified file is saved as modified_Fulgentius_of_Ruspe_On_Faith_and_For_the_Catholic_Faith_Translations_SSML_chunk_1.txt.\n"
     ]
    }
   ],
   "source": [
    "def remove_w_tags_from_file(file_path):\n",
    "    \"\"\"\n",
    "    Removes all <w> tags from the SSML file and saves the modified content to a new file.\n",
    "\n",
    "    Args:\n",
    "        file_path (str): Path to the SSML file to be modified.\n",
    "\n",
    "    Returns:\n",
    "        str: Message indicating the result of the operation.\n",
    "    \"\"\"\n",
    "    try:\n",
    "        print(f\"Attempting to open the file at: {file_path}\")\n",
    "\n",
    "        if not os.path.exists(file_path):\n",
    "            return \"Error: The file specified does not exist.\"\n",
    "\n",
    "        with open(file_path, 'rb') as file:\n",
    "            tree = etree.parse(file)\n",
    "            root = tree.getroot()\n",
    "\n",
    "        for w_tag in root.xpath('//w'):\n",
    "            w_tag.getparent().remove(w_tag)\n",
    "\n",
    "        dir_name = os.path.dirname(file_path)\n",
    "        base_name = os.path.basename(file_path)\n",
    "        modified_base_name = 'modified_' + base_name\n",
    "        modified_path = os.path.join(dir_name, modified_base_name)\n",
    "\n",
    "        print(f\"Saving the modified file to: {modified_path}\")\n",
    "        tree.write(modified_path, pretty_print=True, xml_declaration=True, encoding='UTF-8')\n",
    "        return f\"All <w> tags have been removed and the modified file is saved as {modified_path}.\"\n",
    "\n",
    "    except etree.XMLSyntaxError as e:\n",
    "        return f\"Error parsing the SSML: {str(e)}\"\n",
    "    except PermissionError as e:\n",
    "        return f\"Permission Error: {str(e)}\"\n",
    "    except OSError as e:\n",
    "        return f\"OS Error: {str(e)}\"\n",
    "    except Exception as e:\n",
    "        return f\"An unexpected error occurred: {str(e)}\"\n",
    "\n",
    "# Usage Example\n",
    "file_selector = widgets.FileUpload(accept='.txt', multiple=False)\n",
    "\n",
    "def on_remove_w_tags(b):\n",
    "    for uploaded_file in file_selector.value:\n",
    "        file_path = handle_uploaded_file(uploaded_file)\n",
    "        result = remove_w_tags_from_file(file_path)\n",
    "        print(result)\n",
    "\n",
    "remove_button = widgets.Button(description=\"Remove <w> Tags\")\n",
    "remove_button.on_click(on_remove_w_tags)\n",
    "\n",
    "display(file_selector, remove_button)\n"
   ]
  },
  {
   "cell_type": "code",
   "execution_count": null,
   "id": "b84f0f66",
   "metadata": {},
   "outputs": [],
   "source": []
  }
 ],
 "metadata": {
  "kernelspec": {
   "display_name": "Python 3 (ipykernel)",
   "language": "python",
   "name": "python3"
  },
  "language_info": {
   "codemirror_mode": {
    "name": "ipython",
    "version": 3
   },
   "file_extension": ".py",
   "mimetype": "text/x-python",
   "name": "python",
   "nbconvert_exporter": "python",
   "pygments_lexer": "ipython3",
   "version": "3.11.5"
  }
 },
 "nbformat": 4,
 "nbformat_minor": 5
}
