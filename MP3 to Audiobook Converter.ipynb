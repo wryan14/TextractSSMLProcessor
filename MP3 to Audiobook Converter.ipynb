{
 "cells": [
  {
   "cell_type": "markdown",
   "id": "a3de216d",
   "metadata": {},
   "source": [
    "# MP3 to Audiobook Converter\n",
    "\n",
    "This Jupyter Notebook provides a user-friendly interface to combine multiple MP3 files from a specified directory into a single file and convert it to an audiobook format (m4b).\n",
    "\n",
    "## How to Use This Notebook\n",
    "\n",
    "1. **Enter Directory Path**:\n",
    "   - Enter the path to the directory containing your MP3 files in the input box below.\n",
    "\n",
    "2. **Combining Files**:\n",
    "   - Click the \"Submit\" button to start the combining process.\n",
    "   - The system will automatically combine the files in the specified order.\n",
    "\n",
    "3. **Converting to Audiobook Format**:\n",
    "   - After combining the files, the notebook will convert the resulting MP3 file into an audiobook format (`.m4b`).\n",
    "\n",
    "## Key Features\n",
    "\n",
    "- **Automatic Combining**: MP3 files are combined in the correct order based on their filenames.\n",
    "- **Audiobook Conversion**: The combined MP3 file is converted to the m4b format, suitable for audiobook players.\n",
    "- **User-Friendly Interface**: The notebook uses `ipywidgets` to provide a seamless and interactive experience.\n",
    "\n",
    "**Note**: Make sure `ffmpeg` is installed on your system. You can install it using a package manager, e.g., `sudo apt-get install ffmpeg` on Debian-based systems or `brew install ffmpeg` on macOS.\n",
    "\n",
    "Now, proceed to the code cells below to start the process.\n"
   ]
  },
  {
   "cell_type": "code",
   "execution_count": 2,
   "id": "a0c863da",
   "metadata": {
    "scrolled": true
   },
   "outputs": [
    {
     "data": {
      "application/vnd.jupyter.widget-view+json": {
       "model_id": "4049720d6df341d396eff411a42fd3c5",
       "version_major": 2,
       "version_minor": 0
      },
      "text/plain": [
       "HTML(value=\"\\n    <h2>MP3 to Audiobook Converter</h2>\\n    <p>Follow these steps to combine your MP3 files fro…"
      ]
     },
     "metadata": {},
     "output_type": "display_data"
    },
    {
     "data": {
      "application/vnd.jupyter.widget-view+json": {
       "model_id": "7df07a396331469180b695f54d56de5c",
       "version_major": 2,
       "version_minor": 0
      },
      "text/plain": [
       "Text(value='E:/BookScanner/Not Complete/Libri Carolini/Libri_Carolini_Audio', description='Directory:', placeh…"
      ]
     },
     "metadata": {},
     "output_type": "display_data"
    },
    {
     "data": {
      "application/vnd.jupyter.widget-view+json": {
       "model_id": "e08344fa56fb4d93a5f607fafea77082",
       "version_major": 2,
       "version_minor": 0
      },
      "text/plain": [
       "Button(description='Submit', style=ButtonStyle())"
      ]
     },
     "metadata": {},
     "output_type": "display_data"
    },
    {
     "data": {
      "application/vnd.jupyter.widget-view+json": {
       "model_id": "66a608f9ce294ef390d4435ec018ca35",
       "version_major": 2,
       "version_minor": 0
      },
      "text/plain": [
       "Button(description='Reset', style=ButtonStyle())"
      ]
     },
     "metadata": {},
     "output_type": "display_data"
    },
    {
     "data": {
      "application/vnd.jupyter.widget-view+json": {
       "model_id": "15b1c570702e407f84db247c59cfb9ef",
       "version_major": 2,
       "version_minor": 0
      },
      "text/plain": [
       "Output()"
      ]
     },
     "metadata": {},
     "output_type": "display_data"
    },
    {
     "data": {
      "application/vnd.jupyter.widget-view+json": {
       "model_id": "be7bf1683493416893919c007557d2f8",
       "version_major": 2,
       "version_minor": 0
      },
      "text/plain": [
       "FloatProgress(value=0.0, bar_style='info', description='Progress:', max=1.0)"
      ]
     },
     "metadata": {},
     "output_type": "display_data"
    }
   ],
   "source": [
    "# Install necessary libraries\n",
    "# !pip install ffmpeg-python ipywidgets pydub\n",
    "\n",
    "import os\n",
    "import glob\n",
    "from pydub import AudioSegment\n",
    "import ipywidgets as widgets\n",
    "from IPython.display import display, clear_output\n",
    "import shutil\n",
    "import subprocess\n",
    "\n",
    "# Function to check if ffmpeg is installed\n",
    "def check_ffmpeg_installed():\n",
    "    try:\n",
    "        subprocess.run([\"ffmpeg\", \"-version\"], check=True, stdout=subprocess.PIPE, stderr=subprocess.PIPE)\n",
    "        return True\n",
    "    except FileNotFoundError:\n",
    "        return False\n",
    "    except subprocess.CalledProcessError:\n",
    "        return False\n",
    "\n",
    "# Function to combine MP3 files\n",
    "def combine_mp3_files(files, output_file):\n",
    "    combined = AudioSegment.empty()\n",
    "    total_files = len(files)\n",
    "    for i, file in enumerate(sorted(files, key=lambda x: int(x.split('_part')[-1].split('.')[0]))):\n",
    "        combined += AudioSegment.from_mp3(file)\n",
    "    combined.export(output_file, format=\"mp3\")\n",
    "    return output_file\n",
    "\n",
    "# Function to convert MP3 to audiobook format (m4b)\n",
    "def convert_to_audiobook(mp3_file, audiobook_file):\n",
    "    AudioSegment.from_mp3(mp3_file).export(audiobook_file, format=\"mp4\")\n",
    "    return audiobook_file\n",
    "\n",
    "# Function to handle the directory input and process files\n",
    "def process_directory(b):\n",
    "    clear_output()\n",
    "    display(instructions)\n",
    "    display(directory_input)\n",
    "    display(submit_button)\n",
    "    display(reset_button)\n",
    "    display(output)\n",
    "    display(progress)\n",
    "    \n",
    "    directory_path = directory_input.value.strip()\n",
    "    with output:\n",
    "        if not directory_path:\n",
    "            print(\"Please enter a directory path.\")\n",
    "            return\n",
    "        \n",
    "        if not os.path.exists(directory_path):\n",
    "            print(f\"Directory does not exist: {directory_path}\")\n",
    "            return\n",
    "        \n",
    "        mp3_files = glob.glob(os.path.join(directory_path, '*.mp3'))\n",
    "        if not mp3_files:\n",
    "            print(f\"No MP3 files found in directory: {directory_path}\")\n",
    "            return\n",
    "        \n",
    "        progress.value = 0\n",
    "        progress.description = 'Processing...'\n",
    "        \n",
    "        combined_mp3 = os.path.join(directory_path, 'combined.mp3')\n",
    "        audiobook_file = os.path.join(directory_path, 'audiobook.m4b')\n",
    "        \n",
    "        try:\n",
    "            if not check_ffmpeg_installed():\n",
    "                print(\"ffmpeg is not installed or not in the system PATH.\")\n",
    "                return\n",
    "            \n",
    "            print(\"Combining MP3 files...\")\n",
    "            combined_path = combine_mp3_files(mp3_files, combined_mp3)\n",
    "            print(f\"Combined file saved as {combined_path}\")\n",
    "            \n",
    "            print(\"Converting to audiobook format...\")\n",
    "            audiobook_path = convert_to_audiobook(combined_path, audiobook_file)\n",
    "            print(f\"Audiobook file saved as {audiobook_path}\")\n",
    "            \n",
    "            progress.value = 1.0\n",
    "            progress.description = 'Completed'\n",
    "            print(\"Process completed successfully!\")\n",
    "        except Exception as e:\n",
    "            print(f\"An error occurred: {e}\")\n",
    "            progress.description = 'Error'\n",
    "\n",
    "# Documentation and Instructions\n",
    "instructions = widgets.HTML(\n",
    "    \"\"\"\n",
    "    <h2>MP3 to Audiobook Converter</h2>\n",
    "    <p>Follow these steps to combine your MP3 files from a specified directory and convert them to an audiobook format:</p>\n",
    "    <ol>\n",
    "        <li>Enter the path to the directory containing your MP3 files in the input box below.</li>\n",
    "        <li>Click the 'Submit' button to start processing the files.</li>\n",
    "        <li>The system will automatically combine the files in the specified order.</li>\n",
    "        <li>After combining, the MP3 file will be converted to an audiobook format (<code>.m4b</code>).</li>\n",
    "    </ol>\n",
    "    \"\"\"\n",
    ")\n",
    "\n",
    "# Create a text input widget for directory path\n",
    "directory_input = widgets.Text(\n",
    "    value='',\n",
    "    placeholder='Enter directory path',\n",
    "    description='Directory:',\n",
    "    disabled=False\n",
    ")\n",
    "\n",
    "# Add a submit button\n",
    "submit_button = widgets.Button(description=\"Submit\")\n",
    "submit_button.on_click(process_directory)\n",
    "\n",
    "# Add a reset button\n",
    "reset_button = widgets.Button(description=\"Reset\")\n",
    "reset_button.on_click(lambda b: clear_output() or display(instructions) or display(directory_input) or display(submit_button) or display(reset_button) or display(output) or display(progress))\n",
    "\n",
    "# Output area for feedback\n",
    "output = widgets.Output()\n",
    "\n",
    "# Progress bar\n",
    "progress = widgets.FloatProgress(\n",
    "    value=0.0,\n",
    "    min=0.0,\n",
    "    max=1.0,\n",
    "    step=0.01,\n",
    "    description='Progress:',\n",
    "    bar_style='info',\n",
    "    orientation='horizontal'\n",
    ")\n",
    "\n",
    "# Display everything\n",
    "display(instructions)\n",
    "display(directory_input)\n",
    "display(submit_button)\n",
    "display(reset_button)\n",
    "display(output)\n",
    "display(progress)\n"
   ]
  },
  {
   "cell_type": "markdown",
   "id": "9e57a7b6",
   "metadata": {},
   "source": [
    "### Audiobook metadata"
   ]
  },
  {
   "cell_type": "code",
   "execution_count": null,
   "id": "b67e588b",
   "metadata": {},
   "outputs": [],
   "source": [
    "!pip install mutagen\n",
    "from mutagen.mp4 import MP4\n",
    "\n",
    "# Path to your M4B file\n",
    "file_path = 'E:/BookScanner/Major United Methodist Beliefs/Major_United_Methodist_Beliefs(1981).m4b'\n",
    "\n",
    "# Load the M4B file\n",
    "audio = MP4(file_path)\n",
    "\n",
    "# Add or modify metadata\n",
    "audio['\\xa9nam'] = 'Your Title'  # Title\n",
    "audio['\\xa9ART'] = 'Artist Name'  # Artist\n",
    "audio['\\xa9alb'] = 'Album Name'  # Album\n",
    "audio['\\xa9day'] = '2024'  # Year\n",
    "audio['\\xa9gen'] = 'Genre'  # Genre\n",
    "audio['desc'] = 'Description of the audiobook'  # Description\n",
    "\n",
    "# Save changes\n",
    "audio.save()\n"
   ]
  },
  {
   "cell_type": "code",
   "execution_count": 4,
   "id": "ed6696c8",
   "metadata": {},
   "outputs": [
    {
     "name": "stdout",
     "output_type": "stream",
     "text": [
      "Metadata added successfully.\n"
     ]
    }
   ],
   "source": [
    "from mutagen.mp4 import MP4, MP4Cover\n",
    "\n",
    "# Path to your M4B file and cover image\n",
    "m4b_file_path = 'E:/BookScanner/Not Complete/Libri Carolini/Libri_Carolini(790).m4b'\n",
    "cover_image_path = 'E:/BookScanner/Not Complete/Libri Carolini/Metadata/Cover_Image.png'\n",
    "\n",
    "# Load the M4B file\n",
    "audio = MP4(m4b_file_path)\n",
    "\n",
    "# Add or modify metadata\n",
    "audio['\\xa9nam'] = 'Libri Carolini'  # Title\n",
    "audio['\\xa9ART'] = 'Theodulf of Orleans'  # Artist\n",
    "audio['\\xa9alb'] = 'Libri Carolini'  # Album\n",
    "audio['\\xa9day'] = '790'  # Year\n",
    "audio['\\xa9gen'] = 'Religious'  # Genre\n",
    "audio['desc'] = ('The Libri Carolini, commissioned by Charlemagne and authored by Theodulf of Orleans, is a pivotal theological work created in response to the Second Council of Nicaea\\'s decision to endorse the veneration of icons. '\n",
    "                 'The text articulates a critical perspective on the use of religious images, opposing the practice of icon veneration while acknowledging their utility for didactic purposes. Composed in the late 8th century, it reflects the intellectual and religious climate of the Carolingian Renaissance, showcasing an effort to balance classical learning with Christian doctrine. '\n",
    "                 'The Libri Carolini remains a crucial source for understanding the theological and cultural currents of early medieval Europe, and modern readers can draw lessons on critically engaging with religious traditions and practices.')\n",
    "\n",
    "# Add cover image\n",
    "with open(cover_image_path, 'rb') as f:\n",
    "    cover = MP4Cover(f.read(), imageformat=MP4Cover.FORMAT_PNG)\n",
    "audio['covr'] = [cover]\n",
    "\n",
    "# Save changes\n",
    "audio.save()\n",
    "\n",
    "print(\"Metadata added successfully.\")\n"
   ]
  },
  {
   "cell_type": "code",
   "execution_count": 5,
   "id": "b5ced120",
   "metadata": {},
   "outputs": [
    {
     "name": "stdout",
     "output_type": "stream",
     "text": [
      "Metadata added successfully.\n"
     ]
    }
   ],
   "source": [
    "from mutagen.easyid3 import EasyID3\n",
    "from mutagen.id3 import ID3, TIT2, TPE1, TALB, TDRC, TCON, COMM, APIC, error\n",
    "from mutagen.mp3 import MP3\n",
    "\n",
    "# Path to your MP3 file and cover image\n",
    "mp3_file_path = 'E:/BookScanner/Not Complete/Libri Carolini/Libri_Carolini(790).mp3'\n",
    "cover_image_path = 'E:/BookScanner/Not Complete/Libri Carolini/Metadata/Cover_Image.png'\n",
    "\n",
    "# Load the MP3 file\n",
    "audio = MP3(mp3_file_path, ID3=ID3)\n",
    "\n",
    "# Add or modify metadata\n",
    "try:\n",
    "    audio.add_tags()\n",
    "except error:\n",
    "    pass\n",
    "\n",
    "audio.tags.add(\n",
    "    APIC(\n",
    "        encoding=3,  # 3 is for utf-8\n",
    "        mime='image/png',  # image type\n",
    "        type=3,  # 3 is for the cover(front) image\n",
    "        desc=u'Cover',\n",
    "        data=open(cover_image_path, 'rb').read()\n",
    "    )\n",
    ")\n",
    "\n",
    "audio.tags.add(TIT2(encoding=3, text='Libri Carolini'))  # Title\n",
    "audio.tags.add(TPE1(encoding=3, text='Theodulf of Orleans'))  # Artist\n",
    "audio.tags.add(TALB(encoding=3, text='Libri Carolini'))  # Album\n",
    "audio.tags.add(TDRC(encoding=3, text='790'))  # Year\n",
    "audio.tags.add(TCON(encoding=3, text='Religious'))  # Genre\n",
    "audio.tags.add(COMM(encoding=3, desc=u'Comment', text=(\n",
    "    \"The Libri Carolini, commissioned by Charlemagne and authored by Theodulf of Orleans, is a pivotal theological work created in response to the Second Council of Nicaea's decision to endorse the veneration of icons. \"\n",
    "    \"The text articulates a critical perspective on the use of religious images, opposing the practice of icon veneration while acknowledging their utility for didactic purposes. Composed in the late 8th century, it reflects the intellectual and religious climate of the Carolingian Renaissance, showcasing an effort to balance classical learning with Christian doctrine. \"\n",
    "    \"The Libri Carolini remains a crucial source for understanding the theological and cultural currents of early medieval Europe, and modern readers can draw lessons on critically engaging with religious traditions and practices.\"\n",
    ")))  # Comment\n",
    "\n",
    "# Save changes\n",
    "audio.save()\n",
    "\n",
    "print(\"Metadata added successfully.\")\n"
   ]
  },
  {
   "cell_type": "code",
   "execution_count": null,
   "id": "5a83f85d",
   "metadata": {},
   "outputs": [],
   "source": []
  }
 ],
 "metadata": {
  "kernelspec": {
   "display_name": "Python 3 (ipykernel)",
   "language": "python",
   "name": "python3"
  },
  "language_info": {
   "codemirror_mode": {
    "name": "ipython",
    "version": 3
   },
   "file_extension": ".py",
   "mimetype": "text/x-python",
   "name": "python",
   "nbconvert_exporter": "python",
   "pygments_lexer": "ipython3",
   "version": "3.11.5"
  }
 },
 "nbformat": 4,
 "nbformat_minor": 5
}
