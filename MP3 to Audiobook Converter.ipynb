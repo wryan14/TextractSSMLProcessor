{
 "cells": [
  {
   "cell_type": "markdown",
   "id": "a3de216d",
   "metadata": {},
   "source": [
    "# MP3 to Audiobook Converter\n",
    "\n",
    "This Jupyter Notebook provides a user-friendly interface to combine multiple MP3 files from a specified directory into a single file and convert it to an audiobook format (m4b).\n",
    "\n",
    "## How to Use This Notebook\n",
    "\n",
    "1. **Enter Directory Path**:\n",
    "   - Enter the path to the directory containing your MP3 files in the input box below.\n",
    "\n",
    "2. **Combining Files**:\n",
    "   - Click the \"Submit\" button to start the combining process.\n",
    "   - The system will automatically combine the files in the specified order.\n",
    "\n",
    "3. **Converting to Audiobook Format**:\n",
    "   - After combining the files, the notebook will convert the resulting MP3 file into an audiobook format (`.m4b`).\n",
    "\n",
    "## Key Features\n",
    "\n",
    "- **Automatic Combining**: MP3 files are combined in the correct order based on their filenames.\n",
    "- **Audiobook Conversion**: The combined MP3 file is converted to the m4b format, suitable for audiobook players.\n",
    "- **User-Friendly Interface**: The notebook uses `ipywidgets` to provide a seamless and interactive experience.\n",
    "\n",
    "**Note**: Make sure `ffmpeg` is installed on your system. You can install it using a package manager, e.g., `sudo apt-get install ffmpeg` on Debian-based systems or `brew install ffmpeg` on macOS.\n",
    "\n",
    "Now, proceed to the code cells below to start the process.\n"
   ]
  },
  {
   "cell_type": "code",
   "execution_count": 3,
   "id": "a0c863da",
   "metadata": {
    "scrolled": true
   },
   "outputs": [
    {
     "data": {
      "application/vnd.jupyter.widget-view+json": {
       "model_id": "53388f04d707471eb4d77356bacbeda4",
       "version_major": 2,
       "version_minor": 0
      },
      "text/plain": [
       "HTML(value=\"\\n    <h2>MP3 to Audiobook Converter</h2>\\n    <p>Follow these steps to combine your MP3 files fro…"
      ]
     },
     "metadata": {},
     "output_type": "display_data"
    },
    {
     "data": {
      "application/vnd.jupyter.widget-view+json": {
       "model_id": "b60685f681aa4775b1b3037316a10a3d",
       "version_major": 2,
       "version_minor": 0
      },
      "text/plain": [
       "Text(value='C:\\\\Users\\\\rdw71\\\\Downloads\\\\Major_United_Methodist_Beliefs_Audio', description='Directory:', plac…"
      ]
     },
     "metadata": {},
     "output_type": "display_data"
    },
    {
     "data": {
      "application/vnd.jupyter.widget-view+json": {
       "model_id": "79efea11d58b4d1286a40efad2723544",
       "version_major": 2,
       "version_minor": 0
      },
      "text/plain": [
       "Button(description='Submit', style=ButtonStyle())"
      ]
     },
     "metadata": {},
     "output_type": "display_data"
    },
    {
     "data": {
      "application/vnd.jupyter.widget-view+json": {
       "model_id": "a41366fb90e34e0ca51eb0a64bd96baf",
       "version_major": 2,
       "version_minor": 0
      },
      "text/plain": [
       "Button(description='Reset', style=ButtonStyle())"
      ]
     },
     "metadata": {},
     "output_type": "display_data"
    },
    {
     "data": {
      "application/vnd.jupyter.widget-view+json": {
       "model_id": "32255a1a18d64492a05bb0d8f7f71929",
       "version_major": 2,
       "version_minor": 0
      },
      "text/plain": [
       "Output()"
      ]
     },
     "metadata": {},
     "output_type": "display_data"
    },
    {
     "data": {
      "application/vnd.jupyter.widget-view+json": {
       "model_id": "b97519a8a4a0487b971569f588d69560",
       "version_major": 2,
       "version_minor": 0
      },
      "text/plain": [
       "FloatProgress(value=0.0, bar_style='info', description='Progress:', max=1.0)"
      ]
     },
     "metadata": {},
     "output_type": "display_data"
    }
   ],
   "source": [
    "# Install necessary libraries\n",
    "# !pip install ffmpeg-python ipywidgets pydub\n",
    "\n",
    "import os\n",
    "import glob\n",
    "from pydub import AudioSegment\n",
    "import ipywidgets as widgets\n",
    "from IPython.display import display, clear_output\n",
    "import shutil\n",
    "import subprocess\n",
    "\n",
    "# Function to check if ffmpeg is installed\n",
    "def check_ffmpeg_installed():\n",
    "    try:\n",
    "        subprocess.run([\"ffmpeg\", \"-version\"], check=True, stdout=subprocess.PIPE, stderr=subprocess.PIPE)\n",
    "        return True\n",
    "    except FileNotFoundError:\n",
    "        return False\n",
    "    except subprocess.CalledProcessError:\n",
    "        return False\n",
    "\n",
    "# Function to combine MP3 files\n",
    "def combine_mp3_files(files, output_file):\n",
    "    combined = AudioSegment.empty()\n",
    "    total_files = len(files)\n",
    "    for i, file in enumerate(sorted(files, key=lambda x: int(x.split('_part')[-1].split('.')[0]))):\n",
    "        combined += AudioSegment.from_mp3(file)\n",
    "    combined.export(output_file, format=\"mp3\")\n",
    "    return output_file\n",
    "\n",
    "# Function to convert MP3 to audiobook format (m4b)\n",
    "def convert_to_audiobook(mp3_file, audiobook_file):\n",
    "    AudioSegment.from_mp3(mp3_file).export(audiobook_file, format=\"mp4\")\n",
    "    return audiobook_file\n",
    "\n",
    "# Function to handle the directory input and process files\n",
    "def process_directory(b):\n",
    "    clear_output()\n",
    "    display(instructions)\n",
    "    display(directory_input)\n",
    "    display(submit_button)\n",
    "    display(reset_button)\n",
    "    display(output)\n",
    "    display(progress)\n",
    "    \n",
    "    directory_path = directory_input.value.strip()\n",
    "    with output:\n",
    "        if not directory_path:\n",
    "            print(\"Please enter a directory path.\")\n",
    "            return\n",
    "        \n",
    "        if not os.path.exists(directory_path):\n",
    "            print(f\"Directory does not exist: {directory_path}\")\n",
    "            return\n",
    "        \n",
    "        mp3_files = glob.glob(os.path.join(directory_path, '*.mp3'))\n",
    "        if not mp3_files:\n",
    "            print(f\"No MP3 files found in directory: {directory_path}\")\n",
    "            return\n",
    "        \n",
    "        progress.value = 0\n",
    "        progress.description = 'Processing...'\n",
    "        \n",
    "        combined_mp3 = os.path.join(directory_path, 'combined.mp3')\n",
    "        audiobook_file = os.path.join(directory_path, 'audiobook.m4b')\n",
    "        \n",
    "        try:\n",
    "            if not check_ffmpeg_installed():\n",
    "                print(\"ffmpeg is not installed or not in the system PATH.\")\n",
    "                return\n",
    "            \n",
    "            print(\"Combining MP3 files...\")\n",
    "            combined_path = combine_mp3_files(mp3_files, combined_mp3)\n",
    "            print(f\"Combined file saved as {combined_path}\")\n",
    "            \n",
    "            print(\"Converting to audiobook format...\")\n",
    "            audiobook_path = convert_to_audiobook(combined_path, audiobook_file)\n",
    "            print(f\"Audiobook file saved as {audiobook_path}\")\n",
    "            \n",
    "            progress.value = 1.0\n",
    "            progress.description = 'Completed'\n",
    "            print(\"Process completed successfully!\")\n",
    "        except Exception as e:\n",
    "            print(f\"An error occurred: {e}\")\n",
    "            progress.description = 'Error'\n",
    "\n",
    "# Documentation and Instructions\n",
    "instructions = widgets.HTML(\n",
    "    \"\"\"\n",
    "    <h2>MP3 to Audiobook Converter</h2>\n",
    "    <p>Follow these steps to combine your MP3 files from a specified directory and convert them to an audiobook format:</p>\n",
    "    <ol>\n",
    "        <li>Enter the path to the directory containing your MP3 files in the input box below.</li>\n",
    "        <li>Click the 'Submit' button to start processing the files.</li>\n",
    "        <li>The system will automatically combine the files in the specified order.</li>\n",
    "        <li>After combining, the MP3 file will be converted to an audiobook format (<code>.m4b</code>).</li>\n",
    "    </ol>\n",
    "    \"\"\"\n",
    ")\n",
    "\n",
    "# Create a text input widget for directory path\n",
    "directory_input = widgets.Text(\n",
    "    value='',\n",
    "    placeholder='Enter directory path',\n",
    "    description='Directory:',\n",
    "    disabled=False\n",
    ")\n",
    "\n",
    "# Add a submit button\n",
    "submit_button = widgets.Button(description=\"Submit\")\n",
    "submit_button.on_click(process_directory)\n",
    "\n",
    "# Add a reset button\n",
    "reset_button = widgets.Button(description=\"Reset\")\n",
    "reset_button.on_click(lambda b: clear_output() or display(instructions) or display(directory_input) or display(submit_button) or display(reset_button) or display(output) or display(progress))\n",
    "\n",
    "# Output area for feedback\n",
    "output = widgets.Output()\n",
    "\n",
    "# Progress bar\n",
    "progress = widgets.FloatProgress(\n",
    "    value=0.0,\n",
    "    min=0.0,\n",
    "    max=1.0,\n",
    "    step=0.01,\n",
    "    description='Progress:',\n",
    "    bar_style='info',\n",
    "    orientation='horizontal'\n",
    ")\n",
    "\n",
    "# Display everything\n",
    "display(instructions)\n",
    "display(directory_input)\n",
    "display(submit_button)\n",
    "display(reset_button)\n",
    "display(output)\n",
    "display(progress)\n"
   ]
  },
  {
   "cell_type": "code",
   "execution_count": null,
   "id": "c2085984",
   "metadata": {},
   "outputs": [],
   "source": []
  }
 ],
 "metadata": {
  "kernelspec": {
   "display_name": "Python 3 (ipykernel)",
   "language": "python",
   "name": "python3"
  },
  "language_info": {
   "codemirror_mode": {
    "name": "ipython",
    "version": 3
   },
   "file_extension": ".py",
   "mimetype": "text/x-python",
   "name": "python",
   "nbconvert_exporter": "python",
   "pygments_lexer": "ipython3",
   "version": "3.11.5"
  }
 },
 "nbformat": 4,
 "nbformat_minor": 5
}
